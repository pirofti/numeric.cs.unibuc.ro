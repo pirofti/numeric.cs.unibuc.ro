{
 "cells": [
  {
   "cell_type": "code",
   "execution_count": 1,
   "metadata": {},
   "outputs": [],
   "source": [
    "import numpy as np\n",
    "from scipy import linalg\n",
    "%matplotlib inline\n",
    "import matplotlib.pyplot as plt"
   ]
  },
  {
   "cell_type": "markdown",
   "metadata": {},
   "source": [
    "# I. Elinimarea Gaussiana"
   ]
  },
  {
   "cell_type": "markdown",
   "metadata": {},
   "source": [
    "### Genereaza o matrice aleatoare"
   ]
  },
  {
   "cell_type": "code",
   "execution_count": 2,
   "metadata": {},
   "outputs": [],
   "source": [
    "n = 6\n",
    "A = np.random.randn(n,n)\n",
    "\n",
    "for k in range(0,n-1):\n",
    "    for i in range(k+1,n):\n",
    "        # Calculeaza multiplicatorii Gaussieni\n",
    "        A[i][k] = -A[i][k]/A[k][k]   # Se suprascriu in triunghiul inferior\n",
    "        # Aplica multiplicatorii\n",
    "        for j in range(k+1,n):\n",
    "            A[i][j] = A[i][j] + A[k][j]*A[i][k]"
   ]
  },
  {
   "cell_type": "markdown",
   "metadata": {},
   "source": [
    "### Matricea superior triunghiulara rezultata"
   ]
  },
  {
   "cell_type": "code",
   "execution_count": 3,
   "metadata": {},
   "outputs": [],
   "source": [
    "A_gauss = np.triu(A)"
   ]
  },
  {
   "cell_type": "markdown",
   "metadata": {},
   "source": [
    "# II. Problema de clasificare"
   ]
  },
  {
   "cell_type": "markdown",
   "metadata": {},
   "source": [
    "### Genereaza semnalele"
   ]
  },
  {
   "cell_type": "code",
   "execution_count": 4,
   "metadata": {},
   "outputs": [],
   "source": [
    "m = 2          # dimensiunea semnalelor\n",
    "N1 = 20        # #semnale din prima clasa\n",
    "N2 = 20        # #semnale din a doua clasa\n",
    "\n",
    "C1 = np.random.randn(m,1) + np.random.randn(m,N1)\n",
    "C2 = np.random.randn(m,1) + np.random.randn(m,N2)"
   ]
  },
  {
   "cell_type": "markdown",
   "metadata": {},
   "source": [
    "### Rezolva problema de clasificare ca Ax=b"
   ]
  },
  {
   "cell_type": "code",
   "execution_count": 5,
   "metadata": {},
   "outputs": [],
   "source": [
    "A = np.r_[np.c_[np.transpose(C1), np.ones((N1,1))], \\\n",
    "     np.c_[np.transpose(C2), np.ones((N2,1))]]\n",
    "b = np.r_[np.ones((N1,1)), -np.ones((N2,1))]"
   ]
  },
  {
   "cell_type": "markdown",
   "metadata": {},
   "source": [
    "#### Solutia e ecuatia dreptei care separa clasele"
   ]
  },
  {
   "cell_type": "code",
   "execution_count": 6,
   "metadata": {},
   "outputs": [],
   "source": [
    "x, _, _, _ = linalg.lstsq(A, b)"
   ]
  },
  {
   "cell_type": "markdown",
   "metadata": {},
   "source": [
    "### Afiseaza semnalele si dreapta de separare"
   ]
  },
  {
   "cell_type": "markdown",
   "metadata": {},
   "source": [
    "#### Coeficientii dreptei"
   ]
  },
  {
   "cell_type": "code",
   "execution_count": 7,
   "metadata": {},
   "outputs": [],
   "source": [
    "s = -x[0]/x[1] # slope\n",
    "i = -x[2]/x[1] # intercept"
   ]
  },
  {
   "cell_type": "markdown",
   "metadata": {},
   "source": [
    "### Afiseaza figura"
   ]
  },
  {
   "cell_type": "code",
   "execution_count": 8,
   "metadata": {},
   "outputs": [
    {
     "data": {
      "text/plain": [
       "[<matplotlib.lines.Line2D at 0x20004830eb8>]"
      ]
     },
     "execution_count": 8,
     "metadata": {},
     "output_type": "execute_result"
    },
    {
     "data": {
      "image/png": "[encoded data removed]",
      "text/plain": [
       "<Figure size 432x288 with 1 Axes>"
      ]
     },
     "metadata": {
      "needs_background": "light"
     },
     "output_type": "display_data"
    }
   ],
   "source": [
    "minx = np.min([C1[0,:], C2[0,:]])\n",
    "maxx = np.max([C1[0,:], C2[0,:]])\n",
    "\n",
    "line_x_range = [minx, maxx]\n",
    "line_y_range = i + s*line_x_range\n",
    "\n",
    "fig, ax = plt.subplots()\n",
    "\n",
    "ax.plot(C1[0,:], C1[1,:], '.r')\n",
    "ax.plot(C2[0,:], C2[1,:], '.b')\n",
    "ax.plot(line_x_range, line_y_range,'g')"
   ]
  }
 ],
 "metadata": {
  "kernelspec": {
   "display_name": "Python 3",
   "language": "python",
   "name": "python3"
  },
  "language_info": {
   "codemirror_mode": {
    "name": "ipython",
    "version": 3
   },
   "file_extension": ".py",
   "mimetype": "text/x-python",
   "name": "python",
   "nbconvert_exporter": "python",
   "pygments_lexer": "ipython3",
   "version": "3.7.0"
  }
 },
 "nbformat": 4,
 "nbformat_minor": 2
}
